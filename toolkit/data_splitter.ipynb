{
 "cells": [
  {
   "cell_type": "code",
   "execution_count": null,
   "metadata": {},
   "outputs": [],
   "source": [
    "import pandas as pd\n",
    "\n",
    "# split csv file into files with 100 rows each\n",
    "def split_csv(filename):\n",
    "    df = pd.read_csv(filename)\n",
    "    for i in range(0, len(df), 100):\n",
    "        df[i:i+100].to_csv(f'{filename[:-4]}_{i}.csv', index=False)\n",
    "\n",
    "# request user to upload csv file\n",
    "filename = input('Enter csv filename: ')\n",
    "split_csv(filename)"
   ]
  }
 ],
 "metadata": {
  "language_info": {
   "name": "python"
  },
  "orig_nbformat": 4
 },
 "nbformat": 4,
 "nbformat_minor": 2
}
